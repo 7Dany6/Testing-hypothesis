{
 "cells": [
  {
   "cell_type": "code",
   "execution_count": 1,
   "id": "4ca543fc",
   "metadata": {},
   "outputs": [],
   "source": [
    "import pandas as pd\n",
    "import matplotlib.pyplot as plt\n",
    "import plotly.express as px\n",
    "import numpy as np\n",
    "import plotly.graph_objects as go\n",
    "from datetime import timedelta\n",
    "import requests\n",
    "import seaborn as sns\n",
    "import warnings\n",
    "\n",
    "warnings.filterwarnings(\"ignore\")"
   ]
  },
  {
   "cell_type": "markdown",
   "id": "aa0a2c77",
   "metadata": {},
   "source": [
    "# Задание №1"
   ]
  },
  {
   "cell_type": "code",
   "execution_count": 2,
   "id": "8439e292",
   "metadata": {},
   "outputs": [
    {
     "name": "stdout",
     "output_type": "stream",
     "text": [
      "Вероятность ждать более 55 минут: 0.0228\n"
     ]
    }
   ],
   "source": [
    "from scipy.stats import norm\n",
    "\n",
    "# Среднее время доставки\n",
    "mean_delivery_time = 45\n",
    "\n",
    "# Стандартное отклонение\n",
    "std_dev = 5\n",
    "\n",
    "# Время ожидания, для которого мы хотим рассчитать вероятность\n",
    "waiting_time = 55\n",
    "\n",
    "# Рассчитываем Z-оценку (стандартизированное значение)\n",
    "z_score = (waiting_time - mean_delivery_time) / std_dev\n",
    "\n",
    "# Рассчитываем вероятность с использованием функции распределения\n",
    "probability = 1 - norm.cdf(z_score)\n",
    "\n",
    "print(f\"Вероятность ждать более {waiting_time} минут: {probability:.4f}\")"
   ]
  },
  {
   "cell_type": "markdown",
   "id": "de876e68",
   "metadata": {},
   "source": [
    "# Задание № 2"
   ]
  },
  {
   "cell_type": "code",
   "execution_count": 4,
   "id": "01a654cf",
   "metadata": {},
   "outputs": [
    {
     "name": "stdout",
     "output_type": "stream",
     "text": [
      "Z-статистика: -1.7236987907469261\n",
      "P-значение: 0.08476223344508192\n",
      "Различие не статистически значимо.\n"
     ]
    }
   ],
   "source": [
    "import statsmodels.api as sm\n",
    "\n",
    "successes_group1 = 0.61 * 3500  # количество успехов в первой группе\n",
    "nobs_group1 = 3500      # общее количество наблюдений в первой группе\n",
    "\n",
    "successes_group2 = 0.63 * 3500  # количество успехов во второй группе\n",
    "nobs_group2 = 3500      # общее количество наблюдений во второй группе\n",
    "\n",
    "# проведение теста\n",
    "stat, p_value = sm.stats.proportions_ztest([successes_group1, successes_group2], [nobs_group1, nobs_group2])\n",
    "\n",
    "# Вывод результатов\n",
    "print(f\"Z-статистика: {stat}\")\n",
    "print(f\"P-значение: {p_value}\")\n",
    "\n",
    "# Проверка статистической значимости при уровне значимости 0.05\n",
    "if p_value < 0.05:\n",
    "    print(\"Различие статистически значимо.\")\n",
    "else:\n",
    "    print(\"Различие не статистически значимо.\")"
   ]
  },
  {
   "cell_type": "markdown",
   "id": "a5bf77f8",
   "metadata": {},
   "source": [
    "Таким образом, при тестировании долей в двух выборках мы получаем, что различие статистически не значимо на уровне доверия 95%. Следовательно, при выбранном уровне значимости 0.05 мы можем сказать, что нет достаточных доказательств, чтобы утверждать, что наличие онбординга приводит к статистически значимому улучшению retention day 1. Значит, отчёту доверять нельзя.\n",
    "\n",
    "В чём может быть причина? Что можно предпринять?\n",
    "\n",
    "1. Возможно, стоит продлить эксперимент: нельзя заглядывать в эксперимент и делать финальные выводы до полного его окончания;\n",
    "\n",
    "2. Запустить эксперимент с большей выборкой: если размер выборки недостаточен, тест может не быть достаточно чувствительным;\n",
    "\n",
    "3. Более детально проудмать имплементируемые изменения, собрать обратную связь от пользователей.\n"
   ]
  },
  {
   "cell_type": "markdown",
   "id": "92d6b01e",
   "metadata": {},
   "source": [
    "# Задание № 3"
   ]
  },
  {
   "cell_type": "code",
   "execution_count": 5,
   "id": "ce754b92",
   "metadata": {},
   "outputs": [],
   "source": [
    "# Читаем данные\n",
    "users = pd.read_csv('https://gitlab.com/hse_mar/mar211f/raw/main/data/hw_2/users.csv')\n",
    "auth = pd.read_csv('https://gitlab.com/hse_mar/mar211f/raw/main/data/hw_2/auth.csv')"
   ]
  },
  {
   "cell_type": "code",
   "execution_count": 6,
   "id": "ae8730a9",
   "metadata": {},
   "outputs": [
    {
     "data": {
      "text/html": [
       "<div>\n",
       "<style scoped>\n",
       "    .dataframe tbody tr th:only-of-type {\n",
       "        vertical-align: middle;\n",
       "    }\n",
       "\n",
       "    .dataframe tbody tr th {\n",
       "        vertical-align: top;\n",
       "    }\n",
       "\n",
       "    .dataframe thead th {\n",
       "        text-align: right;\n",
       "    }\n",
       "</style>\n",
       "<table border=\"1\" class=\"dataframe\">\n",
       "  <thead>\n",
       "    <tr style=\"text-align: right;\">\n",
       "      <th></th>\n",
       "      <th>user_id</th>\n",
       "      <th>install_date</th>\n",
       "      <th>onboarding</th>\n",
       "      <th>start_screen</th>\n",
       "    </tr>\n",
       "  </thead>\n",
       "  <tbody>\n",
       "    <tr>\n",
       "      <th>0</th>\n",
       "      <td>96298fda</td>\n",
       "      <td>2019-10-22</td>\n",
       "      <td>test</td>\n",
       "      <td>control</td>\n",
       "    </tr>\n",
       "    <tr>\n",
       "      <th>1</th>\n",
       "      <td>a1ebd508</td>\n",
       "      <td>2019-10-14</td>\n",
       "      <td>control</td>\n",
       "      <td>control</td>\n",
       "    </tr>\n",
       "    <tr>\n",
       "      <th>2</th>\n",
       "      <td>d454a789</td>\n",
       "      <td>2019-10-21</td>\n",
       "      <td>test</td>\n",
       "      <td>control</td>\n",
       "    </tr>\n",
       "    <tr>\n",
       "      <th>3</th>\n",
       "      <td>97843c4d</td>\n",
       "      <td>2019-10-12</td>\n",
       "      <td>test</td>\n",
       "      <td>control</td>\n",
       "    </tr>\n",
       "    <tr>\n",
       "      <th>4</th>\n",
       "      <td>4ca19c7c</td>\n",
       "      <td>2019-10-15</td>\n",
       "      <td>test</td>\n",
       "      <td>test</td>\n",
       "    </tr>\n",
       "  </tbody>\n",
       "</table>\n",
       "</div>"
      ],
      "text/plain": [
       "    user_id install_date onboarding start_screen\n",
       "0  96298fda   2019-10-22       test      control\n",
       "1  a1ebd508   2019-10-14    control      control\n",
       "2  d454a789   2019-10-21       test      control\n",
       "3  97843c4d   2019-10-12       test      control\n",
       "4  4ca19c7c   2019-10-15       test         test"
      ]
     },
     "execution_count": 6,
     "metadata": {},
     "output_type": "execute_result"
    }
   ],
   "source": [
    "users.head()"
   ]
  },
  {
   "cell_type": "code",
   "execution_count": 7,
   "id": "b54259a5",
   "metadata": {},
   "outputs": [
    {
     "data": {
      "text/html": [
       "<div>\n",
       "<style scoped>\n",
       "    .dataframe tbody tr th:only-of-type {\n",
       "        vertical-align: middle;\n",
       "    }\n",
       "\n",
       "    .dataframe tbody tr th {\n",
       "        vertical-align: top;\n",
       "    }\n",
       "\n",
       "    .dataframe thead th {\n",
       "        text-align: right;\n",
       "    }\n",
       "</style>\n",
       "<table border=\"1\" class=\"dataframe\">\n",
       "  <thead>\n",
       "    <tr style=\"text-align: right;\">\n",
       "      <th></th>\n",
       "      <th>user_id</th>\n",
       "      <th>login_date</th>\n",
       "    </tr>\n",
       "  </thead>\n",
       "  <tbody>\n",
       "    <tr>\n",
       "      <th>0</th>\n",
       "      <td>0002c7b0</td>\n",
       "      <td>2019-10-23</td>\n",
       "    </tr>\n",
       "    <tr>\n",
       "      <th>1</th>\n",
       "      <td>0002db79</td>\n",
       "      <td>2019-10-10</td>\n",
       "    </tr>\n",
       "    <tr>\n",
       "      <th>2</th>\n",
       "      <td>0002db79</td>\n",
       "      <td>2019-10-11</td>\n",
       "    </tr>\n",
       "    <tr>\n",
       "      <th>3</th>\n",
       "      <td>0002db79</td>\n",
       "      <td>2019-10-11</td>\n",
       "    </tr>\n",
       "    <tr>\n",
       "      <th>4</th>\n",
       "      <td>000739f8</td>\n",
       "      <td>2019-10-12</td>\n",
       "    </tr>\n",
       "  </tbody>\n",
       "</table>\n",
       "</div>"
      ],
      "text/plain": [
       "    user_id  login_date\n",
       "0  0002c7b0  2019-10-23\n",
       "1  0002db79  2019-10-10\n",
       "2  0002db79  2019-10-11\n",
       "3  0002db79  2019-10-11\n",
       "4  000739f8  2019-10-12"
      ]
     },
     "execution_count": 7,
     "metadata": {},
     "output_type": "execute_result"
    }
   ],
   "source": [
    "auth.head()"
   ]
  },
  {
   "cell_type": "code",
   "execution_count": 8,
   "id": "0b652bf0",
   "metadata": {},
   "outputs": [],
   "source": [
    "# мёрджим\n",
    "data = pd.merge(left=users, right=auth, how='left', on='user_id')"
   ]
  },
  {
   "cell_type": "code",
   "execution_count": 9,
   "id": "3c7e64a1",
   "metadata": {},
   "outputs": [],
   "source": [
    "data['install_date'] = pd.to_datetime(data['install_date'])\n",
    "data['login_date'] = pd.to_datetime(data['login_date'])"
   ]
  },
  {
   "cell_type": "code",
   "execution_count": 10,
   "id": "d46a7204",
   "metadata": {},
   "outputs": [
    {
     "data": {
      "text/html": [
       "<div>\n",
       "<style scoped>\n",
       "    .dataframe tbody tr th:only-of-type {\n",
       "        vertical-align: middle;\n",
       "    }\n",
       "\n",
       "    .dataframe tbody tr th {\n",
       "        vertical-align: top;\n",
       "    }\n",
       "\n",
       "    .dataframe thead th {\n",
       "        text-align: right;\n",
       "    }\n",
       "</style>\n",
       "<table border=\"1\" class=\"dataframe\">\n",
       "  <thead>\n",
       "    <tr style=\"text-align: right;\">\n",
       "      <th></th>\n",
       "      <th>user_id</th>\n",
       "      <th>install_date</th>\n",
       "      <th>onboarding</th>\n",
       "      <th>start_screen</th>\n",
       "      <th>login_date</th>\n",
       "    </tr>\n",
       "  </thead>\n",
       "  <tbody>\n",
       "    <tr>\n",
       "      <th>0</th>\n",
       "      <td>96298fda</td>\n",
       "      <td>2019-10-22</td>\n",
       "      <td>test</td>\n",
       "      <td>control</td>\n",
       "      <td>2019-10-22</td>\n",
       "    </tr>\n",
       "    <tr>\n",
       "      <th>1</th>\n",
       "      <td>96298fda</td>\n",
       "      <td>2019-10-22</td>\n",
       "      <td>test</td>\n",
       "      <td>control</td>\n",
       "      <td>2019-10-23</td>\n",
       "    </tr>\n",
       "    <tr>\n",
       "      <th>2</th>\n",
       "      <td>a1ebd508</td>\n",
       "      <td>2019-10-14</td>\n",
       "      <td>control</td>\n",
       "      <td>control</td>\n",
       "      <td>2019-10-14</td>\n",
       "    </tr>\n",
       "    <tr>\n",
       "      <th>3</th>\n",
       "      <td>a1ebd508</td>\n",
       "      <td>2019-10-14</td>\n",
       "      <td>control</td>\n",
       "      <td>control</td>\n",
       "      <td>2019-10-15</td>\n",
       "    </tr>\n",
       "    <tr>\n",
       "      <th>4</th>\n",
       "      <td>d454a789</td>\n",
       "      <td>2019-10-21</td>\n",
       "      <td>test</td>\n",
       "      <td>control</td>\n",
       "      <td>2019-10-21</td>\n",
       "    </tr>\n",
       "  </tbody>\n",
       "</table>\n",
       "</div>"
      ],
      "text/plain": [
       "    user_id install_date onboarding start_screen login_date\n",
       "0  96298fda   2019-10-22       test      control 2019-10-22\n",
       "1  96298fda   2019-10-22       test      control 2019-10-23\n",
       "2  a1ebd508   2019-10-14    control      control 2019-10-14\n",
       "3  a1ebd508   2019-10-14    control      control 2019-10-15\n",
       "4  d454a789   2019-10-21       test      control 2019-10-21"
      ]
     },
     "execution_count": 10,
     "metadata": {},
     "output_type": "execute_result"
    }
   ],
   "source": [
    "data.head()"
   ]
  },
  {
   "cell_type": "code",
   "execution_count": 19,
   "id": "5d9a1cd1",
   "metadata": {},
   "outputs": [],
   "source": [
    "# протестируем результаты онбоардинга\n",
    "onboarding = data.groupby(['user_id', 'onboarding']).agg({'install_date': 'min', 'login_date': 'max'})\n",
    "onboarding['days'] = (onboarding['login_date'] -  onboarding['install_date']).dt.days\n",
    "onboard = onboarding.reset_index().groupby('onboarding').agg({'days': 'mean', 'user_id': 'count'}).rename(columns={'user_id': 'users_count', 'days': 'ret_share'})"
   ]
  },
  {
   "cell_type": "code",
   "execution_count": 20,
   "id": "2985d9be",
   "metadata": {},
   "outputs": [],
   "source": [
    "group_1 = onboard.iloc[0]\n",
    "group_2 = onboard.iloc[1]"
   ]
  },
  {
   "cell_type": "code",
   "execution_count": null,
   "id": "8c673417",
   "metadata": {},
   "outputs": [
    {
     "name": "stdout",
     "output_type": "stream",
     "text": [
      "Z-статистика: -1.1029980828566583\n",
      "P-значение: 0.135013998852676\n",
      "Различие не статистически значимо.\n"
     ]
    }
   ],
   "source": [
    "successes_group1 = group_1['ret_share'] * group_1['users_count'] # количество успехов в первой группе\n",
    "nobs_group1 = group_1['users_count'] # общее количество наблюдений в первой группе\n",
    "\n",
    "successes_group2 = group_2['ret_share'] * group_2['users_count']  # количество успехов во второй группе\n",
    "nobs_group2 = group_2['users_count'] # общее количество наблюдений во второй группе\n",
    "\n",
    "# проведение теста (не забываем выставить односторонюю альтернативу в соответствии с заданием)\n",
    "stat, p_value = sm.stats.proportions_ztest([successes_group1, successes_group2], [nobs_group1, nobs_group2], alternative='smaller')\n",
    "\n",
    "# вывод результатов\n",
    "print(f\"Z-статистика: {stat}\")\n",
    "print(f\"P-значение: {p_value}\")\n",
    "\n",
    "# проверка статистической значимости при уровне значимости 0.05\n",
    "if p_value < 0.05:\n",
    "    print(\"Различие статистически значимо.\")\n",
    "else:\n",
    "    print(\"Различие не статистически значимо.\")"
   ]
  },
  {
   "cell_type": "markdown",
   "id": "a1888750",
   "metadata": {},
   "source": [
    "Таким образом, можем заключить, что ни на уровне доверия, равным 0.95, ни на 0.9 полученные различия не являются значимыми. Следовательно, имеющиеся данные свидетельствуют об отсутствии различий между выборками."
   ]
  },
  {
   "cell_type": "code",
   "execution_count": null,
   "id": "d1c3d00d",
   "metadata": {},
   "outputs": [],
   "source": [
    "# проинтерпретируем результаты изменения стартового экрана\n",
    "screen = data.groupby(['user_id', 'start_screen']).agg({'install_date': 'min', 'login_date': 'max'})\n",
    "screen['days'] = (screen['login_date'] -  screen['install_date']).dt.days\n",
    "screen_ = screen.reset_index().groupby('start_screen').agg({'days': 'mean', 'user_id': 'count'}).rename(columns={'user_id': 'users_count', 'days': 'ret_share'})"
   ]
  },
  {
   "cell_type": "code",
   "execution_count": null,
   "id": "9df2647a",
   "metadata": {},
   "outputs": [
    {
     "data": {
      "text/html": [
       "<div>\n",
       "<style scoped>\n",
       "    .dataframe tbody tr th:only-of-type {\n",
       "        vertical-align: middle;\n",
       "    }\n",
       "\n",
       "    .dataframe tbody tr th {\n",
       "        vertical-align: top;\n",
       "    }\n",
       "\n",
       "    .dataframe thead th {\n",
       "        text-align: right;\n",
       "    }\n",
       "</style>\n",
       "<table border=\"1\" class=\"dataframe\">\n",
       "  <thead>\n",
       "    <tr style=\"text-align: right;\">\n",
       "      <th></th>\n",
       "      <th>ret_share</th>\n",
       "      <th>users_count</th>\n",
       "    </tr>\n",
       "    <tr>\n",
       "      <th>start_screen</th>\n",
       "      <th></th>\n",
       "      <th></th>\n",
       "    </tr>\n",
       "  </thead>\n",
       "  <tbody>\n",
       "    <tr>\n",
       "      <th>control</th>\n",
       "      <td>0.31085</td>\n",
       "      <td>10645</td>\n",
       "    </tr>\n",
       "    <tr>\n",
       "      <th>test</th>\n",
       "      <td>0.32591</td>\n",
       "      <td>10552</td>\n",
       "    </tr>\n",
       "  </tbody>\n",
       "</table>\n",
       "</div>"
      ],
      "text/plain": [
       "              ret_share  users_count\n",
       "start_screen                        \n",
       "control         0.31085        10645\n",
       "test            0.32591        10552"
      ]
     },
     "execution_count": 13,
     "metadata": {},
     "output_type": "execute_result"
    }
   ],
   "source": [
    "screen_"
   ]
  },
  {
   "cell_type": "code",
   "execution_count": null,
   "id": "3ba28243",
   "metadata": {},
   "outputs": [],
   "source": [
    "group_1 = screen_.iloc[0]\n",
    "group_2 = screen_.iloc[1]"
   ]
  },
  {
   "cell_type": "code",
   "execution_count": null,
   "id": "585e46ec",
   "metadata": {},
   "outputs": [
    {
     "name": "stdout",
     "output_type": "stream",
     "text": [
      "Z-статистика: -2.353341113692693\n",
      "P-значение: 0.00930277866341907\n",
      "Различие статистически значимо.\n"
     ]
    }
   ],
   "source": [
    "successes_group1 = group_1['ret_share'] * group_1['users_count'] # количество успехов в первой группе\n",
    "nobs_group1 = group_1['users_count'] # общее количество наблюдений в первой группе\n",
    "\n",
    "successes_group2 = group_2['ret_share'] * group_2['users_count']  # количество успехов во второй группе\n",
    "nobs_group2 = group_2['users_count'] # общее количество наблюдений во второй группе\n",
    "\n",
    "# проведение теста (не забываем выставить односторонюю альтернативу в соответствии с заданием)\n",
    "stat, p_value = sm.stats.proportions_ztest([successes_group1, successes_group2], [nobs_group1, nobs_group2], alternative='smaller')\n",
    "\n",
    "# вывод результатов\n",
    "print(f\"Z-статистика: {stat}\")\n",
    "print(f\"P-значение: {p_value}\")\n",
    "\n",
    "# проверка статистической значимости при уровне значимости 0.05\n",
    "if p_value < 0.05:\n",
    "    print(\"Различие статистически значимо.\")\n",
    "else:\n",
    "    print(\"Различие не статистически значимо.\")"
   ]
  },
  {
   "cell_type": "markdown",
   "id": "419a0309",
   "metadata": {},
   "source": [
    "В случае с тестированием нового дизайна стартового окна приложения получили, что результаты статистически значимы на **любом разумном уровне значимости**(с) П.К. Катышев:)\n",
    "\n",
    "-> изменение помогло в более длительном удержании пользователей."
   ]
  },
  {
   "cell_type": "code",
   "execution_count": 21,
   "id": "7e377d75",
   "metadata": {},
   "outputs": [
    {
     "name": "stdout",
     "output_type": "stream",
     "text": [
      "                                    sum_sq       df         F    PR(>F)\n",
      "C(onboarding)                     0.266022      1.0  1.226295  0.268141\n",
      "C(start_screen)                   1.203820      1.0  5.549319  0.018497\n",
      "C(onboarding):C(start_screen)     0.904390      1.0  4.169019  0.041182\n",
      "Residual                       4597.422660  21193.0       NaN       NaN\n"
     ]
    }
   ],
   "source": [
    "# проведём тестирование для двух факторов \n",
    "\n",
    "from statsmodels.formula.api import ols\n",
    "\n",
    "onboarding_start = data.groupby(['user_id', 'onboarding', 'start_screen']).agg({'install_date': 'min', 'login_date': 'max'})\n",
    "\n",
    "onboarding_start['days'] = (onboarding_start['login_date'] -  onboarding_start['install_date']).dt.days\n",
    "\n",
    "onboarding_start = onboarding_start.reset_index()\n",
    "\n",
    "\n",
    "model = ols('days ~ C(onboarding) + C(start_screen) + C(onboarding):C(start_screen)', data=onboarding_start).fit()\n",
    "\n",
    "anova_table = sm.stats.anova_lm(model, typ=2)\n",
    "\n",
    "print(anova_table)"
   ]
  },
  {
   "cell_type": "markdown",
   "id": "6d44d4f7",
   "metadata": {},
   "source": [
    "Выводы:\n",
    "\n",
    "-p-value для C(onboarding) равно 0.268, что больше 0.05. Это означает, что нет значимой разницы в среднем значении зависимой переменной между уровнями фактора onboarding, независимо от фактора start_screen.\n",
    "\n",
    "-p-value для C(start_screen) равно 0.018, что меньше 0.05. Это означает, что есть значимая разница в среднем значении зависимой переменной между уровнями фактора start_screen, независимо от фактора onboarding.\n",
    "\n",
    "-p-value для C(onboarding):C(start_screen) равно 0.041, что меньше 0.05. Это означает, что есть значимый взаимодействующий эффект между факторами onboarding и start_screen, то есть влияние одного фактора зависит от уровня другого фактора."
   ]
  },
  {
   "cell_type": "markdown",
   "id": "1449d799",
   "metadata": {},
   "source": [
    "С учётом полученных результатов предложим следующие рекомендации:\n",
    "\n",
    "1. Улучшение онбоардинга:\n",
    "\n",
    "- Провести детальный анализ данных и обратной связи пользователей, чтобы выявить конкретные слабые места в существующем онбординге;\n",
    "\n",
    "- Основываясь на анализе, внести изменения в онбординг с целью повышения его эффективности;\n",
    "\n",
    "- Внимательно следить за метриками удержания после каждого обновления и итеративно вносить коррективы.\n",
    "\n",
    "2. Сегментация юзеров\n",
    "\n",
    "- Разделить пользователей на сегменты и проанализировать, какие группы пользователей наиболее подвержены улучшениям в онбординге;\n",
    "\n",
    "- Проанализировать целесообразность настройки онбординга для разных категорий пользователей."
   ]
  },
  {
   "cell_type": "markdown",
   "id": "008c6956",
   "metadata": {},
   "source": [
    "# Задание № 4"
   ]
  },
  {
   "cell_type": "markdown",
   "id": "6e69ed4a",
   "metadata": {},
   "source": [
    "План A/B-теста для внедрения темной темы в MS Office:\n",
    "\n",
    "1. Возможные гипотезы:\n",
    "   - Гипотеза 1: Пользователи будут привлечены темной темой, так как она создает более комфортное визуальное восприятие и снижает нагрузку на глаза.\n",
    "   - Гипотеза 2: Пользователи могут быть неуверенными в использовании темной темы, опасаясь возможных проблем с читаемостью или непривычности интерфейса.\n",
    "\n",
    "2. Возможные метрики:\n",
    "   - Метрика 1: Количество пользователей, активирующих темную тему.\n",
    "   - Метрика 2: Удовлетворенность пользователями, измеряемая опросами или обратной связью.\n",
    "\n",
    "3. Определить размер выборки:\n",
    "   - Размер выборки будет зависеть от ожидаемого эффекта и уровня статистической значимости. Необходимо провести предварительный расчет, чтобы определить минимальный размер выборки для достижения достаточной мощности теста.\n",
    "\n",
    "4. Разбить на группы:\n",
    "   - Разделить пользователей на две группы: контрольную и экспериментальную.\n",
    "   - Контрольная группа будет использовать стандартную светлую тему MS Office.\n",
    "   - Экспериментальная группа будет использовать новую темную тему.\n",
    "\n",
    "5. Показать пользователям:\n",
    "   - Внедрить темную тему в MS Office только для пользователей в экспериментальной группе.\n",
    "   - Обеспечить возможность пользователям переключаться между светлой и темной темами.\n",
    "\n",
    "6. Проанализировать:\n",
    "   - Собрать данные о количестве активаций темной темы и обратной связи от пользователей.\n",
    "   - Сравнить результаты между контрольной и экспериментальной группами.\n",
    "   - Использовать статистические методы для оценки статистической значимости различий между группами.\n",
    "\n",
    "7. Обнародовать результаты:\n",
    "   - Представить результаты A/B-теста, включая статистическую значимость и практическую значимость.\n",
    "   - Проанализировать обратную связь пользователей и учесть ее при принятии решения о внедрении темной темы для всех пользователей MS Office.\n",
    "\n",
    "Риски:\n",
    "- Риск 1: Негативная реакция пользователей на новую тему, что может привести к снижению удовлетворенности и использованию MS Office.\n",
    "- Риск 2: Технические проблемы или несовместимость новой темы с определенными версиями MS Office или операционными системами.\n",
    "\n",
    "Критерии оценивания:\n",
    "- Критерий 1: Увеличение количества активаций темной темы в экспериментальной группе по сравнению с контрольной группой.\n",
    "- Критерий 2: Положительная обратная связь от пользователей, выражающая удовлетворенность и комфорт при использовании темной темы.\n",
    "\n",
    "Дополнительные шаги, которые можно выполнить до этапа анализа данных:\n",
    "- Провести исследование и анализ запросов пользователей в коммьюнити, чтобы лучше понять их потребности и предпочтения относительно темной темы.\n",
    "- Провести прототипирование и тестирование темной темы с небольшой группой пользователей, чтобы собрать предварительную обратную связь и внести необходимые улучшения перед проведением A/B-теста."
   ]
  }
 ],
 "metadata": {
  "kernelspec": {
   "display_name": "Python 3 (ipykernel)",
   "language": "python",
   "name": "python3"
  },
  "language_info": {
   "codemirror_mode": {
    "name": "ipython",
    "version": 3
   },
   "file_extension": ".py",
   "mimetype": "text/x-python",
   "name": "python",
   "nbconvert_exporter": "python",
   "pygments_lexer": "ipython3",
   "version": "3.11.0"
  }
 },
 "nbformat": 4,
 "nbformat_minor": 5
}
